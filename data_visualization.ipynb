{
 "cells": [
  {
   "cell_type": "code",
   "execution_count": 1,
   "id": "09adc2e1-1823-4fe9-9649-3a57bb567191",
   "metadata": {},
   "outputs": [],
   "source": [
    "import pandas as pd\n",
    "from datetime import datetime\n",
    "import fsspec\n",
    "import matplotlib.pyplot as plt\n",
    "import seaborn as sns\n",
    "import scipy.stats as stats"
   ]
  },
  {
   "cell_type": "code",
   "execution_count": 2,
   "id": "fe3cb99b-f8d6-43dc-9138-eec24e3016f5",
   "metadata": {},
   "outputs": [],
   "source": [
    "# Load the datasets\n",
    "cleaned_yellow_taxi_data = pd.read_csv(\"D://Users//pshab//Downloads//cleaned_yellow_taxi_data.csv\")\n",
    "cleaned_green_taxi_data = pd.read_csv(\"D://Users//pshab//Downloads//cleaned_green_taxi_data.csv\")"
   ]
  },
  {
   "cell_type": "code",
   "execution_count": 4,
   "id": "a6dfa1ed-7c65-4d66-be5a-ef915ef83867",
   "metadata": {},
   "outputs": [],
   "source": [
    "yellow_taxi_data=cleaned_yellow_taxi_data\n",
    "green_taxi_data=cleaned_green_taxi_data"
   ]
  },
  {
   "cell_type": "code",
   "execution_count": 12,
   "id": "215df1df-1c28-4131-bc49-3557f28509df",
   "metadata": {},
   "outputs": [
    {
     "name": "stdout",
     "output_type": "stream",
     "text": [
      "Hypothesis 1 - Trip Distance:\n",
      "T-Statistic: -23.8201\n",
      "P-Value: 0.0000\n"
     ]
    }
   ],
   "source": [
    "# Hypothesis 1: Trip Distance\n",
    "# Null Hypothesis (H0): There is no significant difference in trip distances between yellow and green taxis.\n",
    "# Alternate Hypothesis (H1): There is a significant difference in trip distances between yellow and green taxis.\n",
    "\n",
    "t_statistic, p_value = stats.ttest_ind(yellow_taxi_data['trip_distance'], green_taxi_data['trip_distance'])\n",
    "print(f'Hypothesis 1 - Trip Distance:')\n",
    "print(f'T-Statistic: {t_statistic:.4f}')\n",
    "print(f'P-Value: {p_value:.4f}')"
   ]
  },
  {
   "cell_type": "code",
   "execution_count": 13,
   "id": "a5a544cc-533e-4c17-8c9f-5fd127321a8d",
   "metadata": {},
   "outputs": [
    {
     "name": "stdout",
     "output_type": "stream",
     "text": [
      "Hypothesis 2 - Fare Amount:\n",
      "T-Statistic: -20.8519\n",
      "P-Value: 0.0000\n"
     ]
    }
   ],
   "source": [
    "# Hypothesis 2: Fare Amount\n",
    "# Null Hypothesis (H0): There is no significant difference in fare amounts between yellow and green taxis.\n",
    "# Alternate Hypothesis (H1): There is a significant difference in fare amounts between yellow and green taxis.\n",
    "\n",
    "t_statistic, p_value = stats.ttest_ind(yellow_taxi_data['fare_amount'], green_taxi_data['fare_amount'])\n",
    "print(f'Hypothesis 2 - Fare Amount:')\n",
    "print(f'T-Statistic: {t_statistic:.4f}')\n",
    "print(f'P-Value: {p_value:.4f}')"
   ]
  },
  {
   "cell_type": "code",
   "execution_count": 14,
   "id": "796f6fd3-5811-4623-a965-d30f55e911c5",
   "metadata": {},
   "outputs": [
    {
     "name": "stdout",
     "output_type": "stream",
     "text": [
      "Hypothesis 3 - Tip Amount:\n",
      "T-Statistic: -18.0347\n",
      "P-Value: 0.0000\n"
     ]
    }
   ],
   "source": [
    "# Hypothesis 3: Customer Preferences (Tip Amount)\n",
    "# Null Hypothesis (H0): There is no significant difference in tip amounts between yellow and green taxis.\n",
    "# Alternate Hypothesis (H1): There is a significant difference in tip amounts between yellow and green taxis.\n",
    "\n",
    "t_statistic, p_value = stats.ttest_ind(yellow_taxi_data['tip_amount'], green_taxi_data['tip_amount'])\n",
    "print(f'Hypothesis 3 - Tip Amount:')\n",
    "print(f'T-Statistic: {t_statistic:.4f}')\n",
    "print(f'P-Value: {p_value:.4f}')"
   ]
  },
  {
   "cell_type": "code",
   "execution_count": 15,
   "id": "91bbe509-ef23-477d-9a2e-67f01a6749a0",
   "metadata": {},
   "outputs": [
    {
     "name": "stdout",
     "output_type": "stream",
     "text": [
      "Statistical Analysis 1 - Trip Distance (Mann-Whitney U Test):\n",
      "U Statistic: 212843.5000\n",
      "P-Value: 0.0000\n"
     ]
    }
   ],
   "source": [
    "# Statistical Analysis 1: Comparison of Trip Distance (Mann-Whitney U Test)\n",
    "# Null Hypothesis (H0): There is no significant difference in trip distances between yellow and green taxis.\n",
    "# Alternate Hypothesis (H1): There is a significant difference in trip distances between yellow and green taxis.\n",
    "\n",
    "u_statistic, p_value = stats.mannwhitneyu(yellow_taxi_data['trip_distance'], green_taxi_data['trip_distance'], alternative='two-sided')\n",
    "print(f'Statistical Analysis 1 - Trip Distance (Mann-Whitney U Test):')\n",
    "print(f'U Statistic: {u_statistic:.4f}')\n",
    "print(f'P-Value: {p_value:.4f}')"
   ]
  },
  {
   "cell_type": "code",
   "execution_count": 16,
   "id": "f81844e1-cc0d-4e79-b512-6269601c8773",
   "metadata": {},
   "outputs": [
    {
     "name": "stdout",
     "output_type": "stream",
     "text": [
      "Statistical Analysis 2 - Fare Amount (Mann-Whitney U Test):\n",
      "U Statistic: 251951.5000\n",
      "P-Value: 0.0000\n"
     ]
    }
   ],
   "source": [
    "# Statistical Analysis 2: Comparison of Fare Amount (Mann-Whitney U Test)\n",
    "# Null Hypothesis (H0): There is no significant difference in fare amounts between yellow and green taxis.\n",
    "# Alternate Hypothesis (H1): There is a significant difference in fare amounts between yellow and green taxis.\n",
    "\n",
    "u_statistic, p_value = stats.mannwhitneyu(yellow_taxi_data['fare_amount'], green_taxi_data['fare_amount'], alternative='two-sided')\n",
    "print(f'Statistical Analysis 2 - Fare Amount (Mann-Whitney U Test):')\n",
    "print(f'U Statistic: {u_statistic:.4f}')\n",
    "print(f'P-Value: {p_value:.4f}')"
   ]
  },
  {
   "cell_type": "code",
   "execution_count": 17,
   "id": "11ef9e02-a866-434b-994b-f170bd69d5b8",
   "metadata": {},
   "outputs": [
    {
     "name": "stdout",
     "output_type": "stream",
     "text": [
      "Statistical Analysis 3 - Tip Amount (Mann-Whitney U Test):\n",
      "U Statistic: 265231.5000\n",
      "P-Value: 0.0000\n"
     ]
    }
   ],
   "source": [
    "# Statistical Analysis 3: Comparison of Tip Amount (Mann-Whitney U Test)\n",
    "# Null Hypothesis (H0): There is no significant difference in tip amounts between yellow and green taxis.\n",
    "# Alternate Hypothesis (H1): There is a significant difference in tip amounts between yellow and green taxis.\n",
    "\n",
    "u_statistic, p_value = stats.mannwhitneyu(yellow_taxi_data['tip_amount'], green_taxi_data['tip_amount'], alternative='two-sided')\n",
    "print(f'Statistical Analysis 3 - Tip Amount (Mann-Whitney U Test):')\n",
    "print(f'U Statistic: {u_statistic:.4f}')\n",
    "print(f'P-Value: {p_value:.4f}')"
   ]
  },
  {
   "cell_type": "code",
   "execution_count": 18,
   "id": "07347ff1-62c0-41ba-ab3b-ed94523fbbb0",
   "metadata": {},
   "outputs": [],
   "source": [
    "# Customer Preferences Analysis 1: Payment Type Distribution\n",
    "# Calculate the distribution of payment types for yellow taxis\n",
    "yellow_payment_distribution = yellow_taxi_data['payment_type'].value_counts(normalize=True)\n",
    "\n",
    "# Calculate the distribution of payment types for green taxis\n",
    "green_payment_distribution = green_taxi_data['payment_type'].value_counts(normalize=True)"
   ]
  },
  {
   "cell_type": "code",
   "execution_count": 19,
   "id": "435d8c81-43b5-4252-911a-004007297683",
   "metadata": {},
   "outputs": [
    {
     "name": "stdout",
     "output_type": "stream",
     "text": [
      "payment_type\n",
      "1    0.612832\n",
      "2    0.386062\n",
      "4    0.001106\n",
      "Name: proportion, dtype: float64\n",
      "payment_type\n",
      "1    0.797694\n",
      "2    0.190776\n",
      "4    0.008386\n",
      "3    0.003145\n",
      "Name: proportion, dtype: float64\n"
     ]
    }
   ],
   "source": [
    "print(yellow_payment_distribution)\n",
    "print(green_payment_distribution)"
   ]
  },
  {
   "cell_type": "code",
   "execution_count": 20,
   "id": "121dba6f-3838-4d63-84bf-301ed31d4772",
   "metadata": {},
   "outputs": [],
   "source": [
    "# Customer Preferences Analysis 2: Average Tip Amount by Payment Type\n",
    "# Calculate the average tip amount for each payment type for yellow taxis\n",
    "yellow_avg_tip_by_payment = yellow_taxi_data.groupby('payment_type')['tip_amount'].mean()\n",
    "\n",
    "# Calculate the average tip amount for each payment type for green taxis\n",
    "green_avg_tip_by_payment = green_taxi_data.groupby('payment_type')['tip_amount'].mean()"
   ]
  },
  {
   "cell_type": "code",
   "execution_count": 21,
   "id": "914d7a73-7d98-4832-8bcd-cb2a77c31ef3",
   "metadata": {},
   "outputs": [
    {
     "name": "stdout",
     "output_type": "stream",
     "text": [
      "payment_type\n",
      "1    3.275162\n",
      "2    0.000000\n",
      "4    0.000000\n",
      "Name: tip_amount, dtype: float64\n",
      "payment_type\n",
      "1    6.906176\n",
      "2    0.000000\n",
      "3    0.000000\n",
      "4    0.000000\n",
      "Name: tip_amount, dtype: float64\n"
     ]
    }
   ],
   "source": [
    "print(yellow_avg_tip_by_payment)\n",
    "print(green_avg_tip_by_payment)"
   ]
  },
  {
   "cell_type": "code",
   "execution_count": null,
   "id": "fa7bbf77-05df-43c2-a027-92bb98c3250a",
   "metadata": {},
   "outputs": [],
   "source": [
    "# Customer Preferences Analysis 3: Trip Purpose Analysis\n",
    "# Create a new column 'trip_purpose' based on the duration of the trip\n",
    "def trip_purpose(row):\n",
    "    if row[lpep_dropoff_datetime] - row[lpep_pickup_datetime] <= pd.Timedelta(minutes=30):\n",
    "        return 'Short Trip'\n",
    "    else:\n",
    "        return 'Long Trip'\n",
    "\n",
    "yellow_taxi_data['trip_purpose'] = yellow_taxi_data.apply(trip_purpose, axis=1)\n",
    "green_taxi_data['trip_purpose'] = green_taxi_data.apply(trip_purpose, axis=1)\n",
    "\n",
    "# Calculate the distribution of trip purposes for yellow and green taxis\n",
    "yellow_trip_purpose_distribution = yellow_taxi_data['trip_purpose'].value_counts(normalize=True)\n",
    "green_trip_purpose_distribution = green_taxi_data['trip_purpose'].value_counts(normalize=True)"
   ]
  },
  {
   "cell_type": "code",
   "execution_count": 22,
   "id": "115d51d5-4f55-4eb9-996c-90a98661e1f9",
   "metadata": {},
   "outputs": [],
   "source": [
    "# Cost Impact Analysis 1: Fuel Costs\n",
    "# Assuming a fuel cost per mile (you may replace this with actual data)\n",
    "fuel_cost_per_mile = 0.3  # Example value, replace with actual data\n",
    "\n",
    "# Calculate total fuel costs for yellow and green taxis\n",
    "yellow_taxi_data['fuel_cost'] = yellow_taxi_data['trip_distance'] * fuel_cost_per_mile\n",
    "green_taxi_data['fuel_cost'] = green_taxi_data['trip_distance'] * fuel_cost_per_mile\n",
    "\n",
    "total_fuel_cost_yellow = yellow_taxi_data['fuel_cost'].sum()\n",
    "total_fuel_cost_green = green_taxi_data['fuel_cost'].sum()"
   ]
  },
  {
   "cell_type": "code",
   "execution_count": 23,
   "id": "65af4216-de33-4696-b80c-af87b32794c8",
   "metadata": {},
   "outputs": [
    {
     "name": "stdout",
     "output_type": "stream",
     "text": [
      "703.173\n",
      "2228.241\n"
     ]
    }
   ],
   "source": [
    "print(total_fuel_cost_yellow)\n",
    "print(total_fuel_cost_green)"
   ]
  },
  {
   "cell_type": "code",
   "execution_count": 24,
   "id": "fbb33001-6ebd-4dbe-966a-49d203da0e03",
   "metadata": {},
   "outputs": [],
   "source": [
    "# Cost Impact Analysis 2: Maintenance Costs\n",
    "# Assuming a maintenance cost per mile (you may replace this with actual data)\n",
    "maintenance_cost_per_mile = 0.1  # Example value, replace with actual data\n",
    "\n",
    "# Calculate total maintenance costs for yellow and green taxis\n",
    "yellow_taxi_data['maintenance_cost'] = yellow_taxi_data['trip_distance'] * maintenance_cost_per_mile\n",
    "green_taxi_data['maintenance_cost'] = green_taxi_data['trip_distance'] * maintenance_cost_per_mile\n",
    "\n",
    "total_maintenance_cost_yellow = yellow_taxi_data['maintenance_cost'].sum()\n",
    "total_maintenance_cost_green = green_taxi_data['maintenance_cost'].sum()"
   ]
  },
  {
   "cell_type": "code",
   "execution_count": 25,
   "id": "0effdaef-26a7-474f-8013-43cf72d2d319",
   "metadata": {},
   "outputs": [
    {
     "name": "stdout",
     "output_type": "stream",
     "text": [
      "234.39100000000002\n",
      "742.7470000000001\n"
     ]
    }
   ],
   "source": [
    "print(total_maintenance_cost_yellow)\n",
    "print(total_maintenance_cost_green)"
   ]
  },
  {
   "cell_type": "code",
   "execution_count": 26,
   "id": "9894fc4c-eb67-47e8-91c6-2fd4740e4769",
   "metadata": {},
   "outputs": [],
   "source": [
    "# Cost Impact Analysis 3: Total Revenue\n",
    "total_revenue_yellow = yellow_taxi_data['total_amount'].sum()\n",
    "total_revenue_green = green_taxi_data['total_amount'].sum()\n",
    "\n",
    "# Cost Impact Analysis 4: Profit Analysis\n",
    "# Calculate profit for yellow and green taxis\n",
    "yellow_taxi_data['profit'] = yellow_taxi_data['total_amount'] - (yellow_taxi_data['fuel_cost'] + yellow_taxi_data['maintenance_cost'])\n",
    "green_taxi_data['profit'] = green_taxi_data['total_amount'] - (green_taxi_data['fuel_cost'] + green_taxi_data['maintenance_cost'])\n",
    "\n",
    "total_profit_yellow = yellow_taxi_data['profit'].sum()\n",
    "total_profit_green = green_taxi_data['profit'].sum()"
   ]
  },
  {
   "cell_type": "code",
   "execution_count": 27,
   "id": "ca271c5a-7142-4a98-9ff3-1f57f93f7b3c",
   "metadata": {},
   "outputs": [
    {
     "name": "stdout",
     "output_type": "stream",
     "text": [
      "17493.406000000003\n",
      "40655.812000000005\n"
     ]
    }
   ],
   "source": [
    "print(total_profit_yellow)\n",
    "print(total_profit_green)"
   ]
  },
  {
   "cell_type": "code",
   "execution_count": 28,
   "id": "ddbba810-52b7-4d13-92f0-78f2b0787c29",
   "metadata": {},
   "outputs": [
    {
     "name": "stdout",
     "output_type": "stream",
     "text": [
      "Mean Trip Distance (Yellow Taxi): 2.59 miles\n",
      "Mean Trip Distance (Green Taxi): 7.79 miles\n"
     ]
    }
   ],
   "source": [
    "# Comparison 1: Trip Distance\n",
    "mean_trip_distance_yellow = yellow_taxi_data['trip_distance'].mean()\n",
    "mean_trip_distance_green = green_taxi_data['trip_distance'].mean()\n",
    "\n",
    "print(f\"Mean Trip Distance (Yellow Taxi): {mean_trip_distance_yellow:.2f} miles\")\n",
    "print(f\"Mean Trip Distance (Green Taxi): {mean_trip_distance_green:.2f} miles\")"
   ]
  },
  {
   "cell_type": "code",
   "execution_count": 29,
   "id": "17a41331-6f23-47cc-bea2-9afdaf9b0a9c",
   "metadata": {},
   "outputs": [
    {
     "name": "stdout",
     "output_type": "stream",
     "text": [
      "Mean Fare Amount (Yellow Taxi): $15.72\n",
      "Mean Fare Amount (Green Taxi): $32.21\n"
     ]
    }
   ],
   "source": [
    "# Comparison 2: Fare Amount\n",
    "mean_fare_amount_yellow = yellow_taxi_data['fare_amount'].mean()\n",
    "mean_fare_amount_green = green_taxi_data['fare_amount'].mean()\n",
    "\n",
    "print(f\"Mean Fare Amount (Yellow Taxi): ${mean_fare_amount_yellow:.2f}\")\n",
    "print(f\"Mean Fare Amount (Green Taxi): ${mean_fare_amount_green:.2f}\")"
   ]
  },
  {
   "cell_type": "code",
   "execution_count": 30,
   "id": "ad40a747-aa20-4d6c-aa97-b9a11bcb7224",
   "metadata": {},
   "outputs": [
    {
     "name": "stdout",
     "output_type": "stream",
     "text": [
      "Mean Tip Amount (Yellow Taxi): $2.01\n",
      "Mean Tip Amount (Green Taxi): $5.51\n"
     ]
    }
   ],
   "source": [
    "# Comparison 3: Average Tip Amount\n",
    "mean_tip_amount_yellow = yellow_taxi_data['tip_amount'].mean()\n",
    "mean_tip_amount_green = green_taxi_data['tip_amount'].mean()\n",
    "\n",
    "print(f\"Mean Tip Amount (Yellow Taxi): ${mean_tip_amount_yellow:.2f}\")\n",
    "print(f\"Mean Tip Amount (Green Taxi): ${mean_tip_amount_green:.2f}\")"
   ]
  },
  {
   "cell_type": "code",
   "execution_count": 31,
   "id": "6e85e702-acfe-4dd6-ac42-fdaeaf158088",
   "metadata": {},
   "outputs": [
    {
     "name": "stdout",
     "output_type": "stream",
     "text": [
      "\n",
      "--- Conclusion ---\n",
      "Based on the analysis of yellow and green taxis in NYC, the following conclusions can be drawn:\n",
      "Green taxis tend to have longer average trip distances compared to yellow taxis.\n",
      "Green taxis tend to have higher average fare amounts compared to yellow taxis.\n",
      "Passengers of green taxis tend to give higher average tips compared to yellow taxis.\n"
     ]
    }
   ],
   "source": [
    "# Conclusion: Provide a summary of the findings and recommendations\n",
    "print(\"\\n--- Conclusion ---\")\n",
    "print(\"Based on the analysis of yellow and green taxis in NYC, the following conclusions can be drawn:\")\n",
    "\n",
    "if mean_trip_distance_yellow > mean_trip_distance_green:\n",
    "    print(\"Yellow taxis tend to have longer average trip distances compared to green taxis.\")\n",
    "else:\n",
    "    print(\"Green taxis tend to have longer average trip distances compared to yellow taxis.\")\n",
    "\n",
    "if mean_fare_amount_yellow > mean_fare_amount_green:\n",
    "    print(\"Yellow taxis tend to have higher average fare amounts compared to green taxis.\")\n",
    "else:\n",
    "    print(\"Green taxis tend to have higher average fare amounts compared to yellow taxis.\")\n",
    "\n",
    "if mean_tip_amount_yellow > mean_tip_amount_green:\n",
    "    print(\"Passengers of yellow taxis tend to give higher average tips compared to green taxis.\")\n",
    "else:\n",
    "    print(\"Passengers of green taxis tend to give higher average tips compared to yellow taxis.\")"
   ]
  },
  {
   "cell_type": "code",
   "execution_count": 32,
   "id": "8b3df79f-3bba-4773-9686-f9df898f417c",
   "metadata": {},
   "outputs": [
    {
     "data": {
      "image/png": "[encoded data removed]",
      "text/plain": [
       "<Figure size 1200x600 with 1 Axes>"
      ]
     },
     "metadata": {},
     "output_type": "display_data"
    }
   ],
   "source": [
    "# Visualization 1: Histogram of Trip Distances\n",
    "plt.figure(figsize=(12, 6))\n",
    "plt.hist(yellow_taxi_data['trip_distance'], bins=30, alpha=0.5, color='yellow', label='Yellow Taxi')\n",
    "plt.hist(green_taxi_data['trip_distance'], bins=30, alpha=0.5, color='green', label='Green Taxi')\n",
    "plt.xlabel('Trip Distance (miles)')\n",
    "plt.ylabel('Frequency')\n",
    "plt.title('Distribution of Trip Distances')\n",
    "plt.legend()\n",
    "plt.show()"
   ]
  },
  {
   "cell_type": "code",
   "execution_count": 33,
   "id": "37f8f7b4-0bb8-4295-a271-455f5b25a700",
   "metadata": {},
   "outputs": [
    {
     "name": "stderr",
     "output_type": "stream",
     "text": [
      "C:\\Users\\pshab\\AppData\\Local\\Packages\\PythonSoftwareFoundation.Python.3.11_qbz5n2kfra8p0\\LocalCache\\local-packages\\Python311\\site-packages\\seaborn\\_oldcore.py:1498: FutureWarning: is_categorical_dtype is deprecated and will be removed in a future version. Use isinstance(dtype, CategoricalDtype) instead\n",
      "  if pd.api.types.is_categorical_dtype(vector):\n",
      "C:\\Users\\pshab\\AppData\\Local\\Packages\\PythonSoftwareFoundation.Python.3.11_qbz5n2kfra8p0\\LocalCache\\local-packages\\Python311\\site-packages\\seaborn\\_oldcore.py:1498: FutureWarning: is_categorical_dtype is deprecated and will be removed in a future version. Use isinstance(dtype, CategoricalDtype) instead\n",
      "  if pd.api.types.is_categorical_dtype(vector):\n",
      "C:\\Users\\pshab\\AppData\\Local\\Packages\\PythonSoftwareFoundation.Python.3.11_qbz5n2kfra8p0\\LocalCache\\local-packages\\Python311\\site-packages\\seaborn\\_oldcore.py:1498: FutureWarning: is_categorical_dtype is deprecated and will be removed in a future version. Use isinstance(dtype, CategoricalDtype) instead\n",
      "  if pd.api.types.is_categorical_dtype(vector):\n"
     ]
    },
    {
     "data": {
      "image/png": "[encoded data removed]",
      "text/plain": [
       "<Figure size 1000x600 with 1 Axes>"
      ]
     },
     "metadata": {},
     "output_type": "display_data"
    }
   ],
   "source": [
    "# Visualization 2: Boxplot of Fare Amounts by Payment Type\n",
    "plt.figure(figsize=(10, 6))\n",
    "sns.boxplot(data=yellow_taxi_data, x='payment_type', y='fare_amount', palette='YlGnBu')\n",
    "plt.xlabel('Payment Type')\n",
    "plt.ylabel('Fare Amount')\n",
    "plt.title('Fare Amounts by Payment Type (Yellow Taxi)')\n",
    "plt.show()"
   ]
  },
  {
   "cell_type": "code",
   "execution_count": 34,
   "id": "83845185-bced-4fa4-a82f-54d87f98f7db",
   "metadata": {},
   "outputs": [
    {
     "name": "stdout",
     "output_type": "stream",
     "text": [
      "\n",
      "--- Project Report: Analyzing Performance and Customer Preferences in NYC's Green and Yellow Taxis ---\n",
      "\n",
      "**Findings:**\n",
      "\n",
      "1. Trip Distances:\n",
      "   - Yellow Taxi: Mean Trip Distance - 2.59 miles\n",
      "   - Green Taxi: Mean Trip Distance - 7.79 miles\n",
      "\n",
      "2. Fare Amounts:\n",
      "   - Yellow Taxi: Mean Fare Amount - $15.72\n",
      "   - Green Taxi: Mean Fare Amount - $32.21\n",
      "\n",
      "3. Average Tip Amount:\n",
      "   - Yellow Taxi: Mean Tip Amount - $2.01\n",
      "   - Green Taxi: Mean Tip Amount - $5.51\n",
      "\n",
      "--- End of Report ---\n",
      "\n"
     ]
    }
   ],
   "source": [
    "# Reporting: Generate a report summarizing the findings and recommendations\n",
    "report = \"\"\"\n",
    "--- Project Report: Analyzing Performance and Customer Preferences in NYC's Green and Yellow Taxis ---\n",
    "\n",
    "**Findings:**\n",
    "\n",
    "1. Trip Distances:\n",
    "   - Yellow Taxi: Mean Trip Distance - {:.2f} miles\n",
    "   - Green Taxi: Mean Trip Distance - {:.2f} miles\n",
    "\n",
    "2. Fare Amounts:\n",
    "   - Yellow Taxi: Mean Fare Amount - ${:.2f}\n",
    "   - Green Taxi: Mean Fare Amount - ${:.2f}\n",
    "\n",
    "3. Average Tip Amount:\n",
    "   - Yellow Taxi: Mean Tip Amount - ${:.2f}\n",
    "   - Green Taxi: Mean Tip Amount - ${:.2f}\n",
    "\n",
    "--- End of Report ---\n",
    "\"\"\".format(\n",
    "    yellow_taxi_data['trip_distance'].mean(),\n",
    "    green_taxi_data['trip_distance'].mean(),\n",
    "    yellow_taxi_data['fare_amount'].mean(),\n",
    "    green_taxi_data['fare_amount'].mean(),\n",
    "    yellow_taxi_data['tip_amount'].mean(),\n",
    "    green_taxi_data['tip_amount'].mean()\n",
    ")\n",
    "\n",
    "# Save the report to a file (you may replace the file path and name)\n",
    "report_file_path = 'taxi_analysis_report.txt'\n",
    "with open(report_file_path, 'w') as report_file:\n",
    "    report_file.write(report)\n",
    "\n",
    "#print(\"Report generated and saved successfully at:\", report_file_path)\n",
    "print(report)"
   ]
  },
  {
   "cell_type": "code",
   "execution_count": 35,
   "id": "8da763c9-4801-4601-80e1-475cf924d454",
   "metadata": {},
   "outputs": [
    {
     "name": "stdout",
     "output_type": "stream",
     "text": [
      "--- Recommendations ---\n",
      "Recommendation 1: Consider expanding the green taxi service as it generated higher total revenue.\n",
      "Recommendation 2: Promote green taxis for their higher average tip amounts, which may attract more drivers.\n",
      "Recommendation 3: Explore ways to improve the fuel efficiency of green taxis to reduce operational costs.\n",
      "Recommendation 4: Consider promoting credit card payments for yellow taxis to enhance payment convenience.\n"
     ]
    }
   ],
   "source": [
    "# Recommendations:\n",
    "recommendations = []\n",
    "\n",
    "# Recommendation 1: Service Expansion\n",
    "if yellow_taxi_data['total_amount'].sum() < green_taxi_data['total_amount'].sum():\n",
    "    recommendations.append(\"Consider expanding the green taxi service as it generated higher total revenue.\")\n",
    "else:\n",
    "    recommendations.append(\"Consider expanding the yellow taxi service as it generated higher total revenue.\")\n",
    "\n",
    "# Recommendation 2: Customer Preferences\n",
    "if yellow_taxi_data['tip_amount'].mean() < green_taxi_data['tip_amount'].mean():\n",
    "    recommendations.append(\"Promote green taxis for their higher average tip amounts, which may attract more drivers.\")\n",
    "else:\n",
    "    recommendations.append(\"Promote yellow taxis for their higher average tip amounts, which may attract more drivers.\")\n",
    "\n",
    "# Recommendation 3: Fuel Efficiency\n",
    "if yellow_taxi_data['trip_distance'].mean() > green_taxi_data['trip_distance'].mean():\n",
    "    recommendations.append(\"Explore ways to improve the fuel efficiency of yellow taxis to reduce operational costs.\")\n",
    "else:\n",
    "    recommendations.append(\"Explore ways to improve the fuel efficiency of green taxis to reduce operational costs.\")\n",
    "\n",
    "# Recommendation 4: Payment Convenience\n",
    "if yellow_taxi_data['payment_type'].value_counts().idxmax() == 1:\n",
    "    recommendations.append(\"Consider promoting credit card payments for yellow taxis to enhance payment convenience.\")\n",
    "else:\n",
    "    recommendations.append(\"Consider promoting credit card payments for green taxis to enhance payment convenience.\")\n",
    "\n",
    "# Print Recommendations\n",
    "print(\"--- Recommendations ---\")\n",
    "for i, recommendation in enumerate(recommendations, 1):\n",
    "    print(f\"Recommendation {i}: {recommendation}\")"
   ]
  }
 ],
 "metadata": {
  "kernelspec": {
   "display_name": "Python 3 (ipykernel)",
   "language": "python",
   "name": "python3"
  },
  "language_info": {
   "codemirror_mode": {
    "name": "ipython",
    "version": 3
   },
   "file_extension": ".py",
   "mimetype": "text/x-python",
   "name": "python",
   "nbconvert_exporter": "python",
   "pygments_lexer": "ipython3",
   "version": "3.11.5"
  }
 },
 "nbformat": 4,
 "nbformat_minor": 5
}
